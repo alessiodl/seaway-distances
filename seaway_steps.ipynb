{
 "cells": [
  {
   "attachments": {},
   "cell_type": "markdown",
   "metadata": {},
   "source": [
    "Dati un file di poligoni (land.geojson) e un file di punti (farms.geojson):\n",
    "* verifica se land.geojson contiene geometrie multipolygon, le esplode in geometri di tipo polygon e salva il risultato in poly_exploded.geojson\n",
    "* verifica la proiezione di poly_exploded.geojson e farms.geojson, la imposta come 3857 e salva i risultati come poly_exploded_projected.geojson e farms_projected.geojson nella cartella temporanea"
   ]
  },
  {
   "cell_type": "code",
   "execution_count": 86,
   "metadata": {},
   "outputs": [],
   "source": [
    "import os\n",
    "import geopandas as gpd\n",
    "from pyproj import Transformer\n",
    "\n",
    "# Carica il file di poligoni e verifica se ci sono geometrie multipolygon\n",
    "polys = gpd.read_file(os.path.join('data','land.geojson'))\n",
    "if polys.geom_type.any() == 'MultiPolygon':\n",
    "    # Esplode le geometrie multipolygon in poligoni singoli\n",
    "    polys = polys.explode()\n",
    "\n",
    "# Verifica e imposta la proiezione dei dati\n",
    "if polys.crs != 'epsg:3857':\n",
    "    transformer = Transformer.from_crs(polys.crs, 'epsg:3857')\n",
    "    polys = polys.dissolve().to_crs('epsg:3857')\n",
    "\n",
    "farms = gpd.read_file(os.path.join('data','farms.geojson'))\n",
    "if farms.crs != 'epsg:3857':\n",
    "    transformer = Transformer.from_crs(farms.crs, 'epsg:3857')\n",
    "    farms = farms.to_crs('epsg:3857')\n",
    "\n",
    "# Salva i risultati in file separati\n",
    "polys.to_file(os.path.join('tmp','poly_exploded_projected.geojson'), driver='GeoJSON')\n",
    "farms.to_file(os.path.join('tmp','farms_projected.geojson'), driver='GeoJSON')"
   ]
  },
  {
   "attachments": {},
   "cell_type": "markdown",
   "metadata": {},
   "source": [
    "Prosegue:\n",
    "\n",
    "* crea buffer di 100 metri di poly_exploded_projected.geojson usando una risoluzione di 3 punti e salva il risultato con buffer.geojson;\n",
    "* crea buffer di 5 km intorno a farms_projected.geojson;\n",
    "* utilizzando una espressione trigonometrica, verifica quali i vertici del poligono buffer.geojson hanno un angolo esterno pari o superiore a 180 gradi e li salva in un file vertici_convessi.geojson\n"
   ]
  },
  {
   "cell_type": "code",
   "execution_count": 87,
   "metadata": {},
   "outputs": [
    {
     "name": "stderr",
     "output_type": "stream",
     "text": [
      "C:\\Users\\a.dilorenzo\\AppData\\Local\\Temp\\ipykernel_17648\\821732671.py:31: FutureWarning: Currently, index_parts defaults to True, but in the future, it will default to False to be consistent with Pandas. Use `index_parts=True` to keep the current behavior and True/False to silence the warning.\n",
      "  for polygon in buffer.explode().geometry:\n"
     ]
    },
    {
     "name": "stdout",
     "output_type": "stream",
     "text": [
      "vertici convessi: 703\n",
      "vertici convessi contenuti nel buffer degli allevamenti: 528\n"
     ]
    }
   ],
   "source": [
    "import geopandas as gpd\n",
    "from shapely.geometry import Polygon, LineString, Point\n",
    "import math\n",
    "import os\n",
    "\n",
    "# Carica il file dei poligoni esplodi e verifica la proiezione\n",
    "polys = gpd.read_file(os.path.join('tmp','poly_exploded_projected.geojson'))\n",
    "if polys.crs != 'epsg:3857':\n",
    "    polys = polys.to_crs('epsg:3857')\n",
    "\n",
    "# Crea un buffer di 100 metri attorno ai poligoni\n",
    "buffer = polys.buffer(500, join_style=2)\n",
    "\n",
    "# Salva il buffer in un file separato\n",
    "buffer.to_file(os.path.join('tmp','buffer.geojson'), driver='GeoJSON')\n",
    "\n",
    "# Carica il file delle farm e verifica la proiezione\n",
    "farms = gpd.read_file(os.path.join('tmp','farms_projected.geojson'))\n",
    "if farms.crs != 'epsg:3857':\n",
    "    farms = farms.to_crs('epsg:3857')\n",
    "\n",
    "# Crea un buffer di 5 km attorno alle farm e salva in un file separato\n",
    "farms_buffer = farms.buffer(5000)\n",
    "farms_buffer.to_file(os.path.join('tmp','farms_buffer.geojson'), driver='GeoJSON')\n",
    "farms_buffer_df = gpd.GeoDataFrame(geometry=farms_buffer, crs='epsg:3857')\n",
    "\n",
    "# Crea una lista vuota per i vertici convessi\n",
    "convex_vertices = []\n",
    "\n",
    "# Loop sui poligoni nel buffer\n",
    "for polygon in buffer.explode().geometry:\n",
    "    # Itera sui vertici del poligono\n",
    "    for i in range(len(polygon.exterior.coords)):\n",
    "        p1 = polygon.exterior.coords[i-1]\n",
    "        p2 = polygon.exterior.coords[i]\n",
    "        p3 = polygon.exterior.coords[(i+1) % len(polygon.exterior.coords)]\n",
    "        if (p2[0]-p1[0])*(p3[1]-p2[1]) - (p3[0]-p2[0])*(p2[1]-p1[1]) < 0:\n",
    "            convex_vertices.append(p2)\n",
    "\n",
    "# Crea un GeoDataFrame contenente i vertici convessi\n",
    "convex_points = gpd.GeoDataFrame(geometry=gpd.points_from_xy([point[0] for point in convex_vertices], [point[1] for point in convex_vertices]), crs='EPSG:3857')\n",
    "# Salva i vertici convessi in un file separato come punti\n",
    "convex_points.to_file(os.path.join('tmp','vertici_convessi.geojson'), driver='GeoJSON')\n",
    "\n",
    "# Seleziona solo i punti contenuti nel buffer intorno alle farms\n",
    "convex_points_aoi = convex_points[convex_points.geometry.within(farms_buffer_df.unary_union)] \n",
    "print('vertici convessi:', len(convex_points))\n",
    "print('vertici convessi contenuti nel buffer degli allevamenti:', len(convex_points_aoi))\n",
    "# Salva il file dei vertici convessi nell'area di interesse\n",
    "convex_points_aoi.to_file(os.path.join('tmp','vertici_convessi_aoi.geojson'), driver='GeoJSON')"
   ]
  },
  {
   "attachments": {},
   "cell_type": "markdown",
   "metadata": {},
   "source": [
    "aggiungere l'attributo \"FARM_CODE\" a ogni punto del file vertici_convessi_aoi.geojson, unire i punti di farms_projected.geojson con quelli del file vertici_convessi_aoi.geojson e salvare il risultato in un file graph_nodes.geojson"
   ]
  },
  {
   "cell_type": "code",
   "execution_count": 88,
   "metadata": {},
   "outputs": [
    {
     "name": "stdout",
     "output_type": "stream",
     "text": [
      "graph nodes: 543\n"
     ]
    },
    {
     "name": "stderr",
     "output_type": "stream",
     "text": [
      "C:\\Users\\a.dilorenzo\\AppData\\Local\\Temp\\ipykernel_17648\\2923304900.py:13: FutureWarning: The frame.append method is deprecated and will be removed from pandas in a future version. Use pandas.concat instead.\n",
      "  graph_nodes = farms.append(convex_points_aoi)\n"
     ]
    }
   ],
   "source": [
    "import geopandas as gpd\n",
    "\n",
    "# Carica il file dei vertici convessi nell'area di interesse\n",
    "convex_points_aoi = gpd.read_file(os.path.join('tmp','vertici_convessi_aoi.geojson'))\n",
    "\n",
    "# Aggiungi l'attributo FARM_CODE a ogni punto del file\n",
    "convex_points_aoi['FARM_CODE'] = 'vertex'\n",
    "\n",
    "# Carica il file delle fattorie\n",
    "farms = gpd.read_file(os.path.join('tmp','farms_projected.geojson'))\n",
    "\n",
    "# Unisci i punti dei due file\n",
    "graph_nodes = farms.append(convex_points_aoi)\n",
    "\n",
    "# Salva il file dei nodi del grafo\n",
    "graph_nodes.to_file(os.path.join('tmp','graph_nodes.geojson'), driver='GeoJSON')\n",
    "\n",
    "print('graph nodes:', len(graph_nodes))"
   ]
  },
  {
   "attachments": {},
   "cell_type": "markdown",
   "metadata": {},
   "source": [
    "Dati i file graph_nodes.geojson e poly_proiected.geojson:\n",
    "utilizzare la libreria networkx per creare una rete di visibilità che unica tra loro tutti i punti node_network_projected.geojson considerando i poligoni di poly_projected.gejson come ostacoli che non possono essere attraversati dalle linee di connessione\n",
    "salvare il risultato come graph_network.geojson"
   ]
  },
  {
   "cell_type": "code",
   "execution_count": 89,
   "metadata": {},
   "outputs": [],
   "source": [
    "import geopandas as gpd\n",
    "import networkx as nx\n",
    "from shapely.geometry import Point, LineString, MultiPolygon\n",
    "\n",
    "# Carica i file dei nodi del grafo e dei poligoni\n",
    "nodes = gpd.read_file(os.path.join('tmp','graph_nodes.geojson'))\n",
    "polygons = gpd.read_file(os.path.join('tmp','poly_exploded_projected.geojson'))\n",
    "\n",
    "# Crea il grafo\n",
    "G = nx.Graph()\n",
    "\n",
    "# Aggiungi i nodi al grafo\n",
    "for i, row in nodes.iterrows():\n",
    "    G.add_node(i, geometry=row.geometry)\n",
    "\n",
    "# Calcola le connessioni tra i nodi visibili\n",
    "for u, udata in G.nodes(data=True):\n",
    "    for v, vdata in G.nodes(data=True):\n",
    "        if u >= v:\n",
    "            continue\n",
    "        # Crea la linea tra i due nodi\n",
    "        line = LineString([udata['geometry'].coords[0], vdata['geometry'].coords[0]])\n",
    "        visible = True\n",
    "        # Verifica se la linea attraversa un poligono\n",
    "        for _, poly in polygons.iterrows():\n",
    "            if line.intersects(poly.geometry):\n",
    "                visible = False\n",
    "                break\n",
    "        # Aggiungi la connessione se i due nodi sono visibili\n",
    "        if visible:\n",
    "            G.add_edge(u, v)\n",
    "\n",
    "# Crea un nuovo GeoDataFrame con le linee di connessione\n",
    "edges = []\n",
    "for u, v, data in G.edges(data=True):\n",
    "    edge = LineString([nodes.loc[u].geometry.coords[0], nodes.loc[v].geometry.coords[0]])\n",
    "    edges.append({'id': f\"{u}-{v}\", 'geometry': edge})\n",
    "edges_gdf = gpd.GeoDataFrame(edges, crs='epsg:3857')\n",
    "\n",
    "# Salva il file delle linee di connessione come geojson\n",
    "edges_gdf.to_file(os.path.join('tmp','graph_network.geojson'), driver='GeoJSON')"
   ]
  }
 ],
 "metadata": {
  "kernelspec": {
   "display_name": "seaway",
   "language": "python",
   "name": "python3"
  },
  "language_info": {
   "codemirror_mode": {
    "name": "ipython",
    "version": 3
   },
   "file_extension": ".py",
   "mimetype": "text/x-python",
   "name": "python",
   "nbconvert_exporter": "python",
   "pygments_lexer": "ipython3",
   "version": "3.10.9"
  },
  "orig_nbformat": 4
 },
 "nbformat": 4,
 "nbformat_minor": 2
}
