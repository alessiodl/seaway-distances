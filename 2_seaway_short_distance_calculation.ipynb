{
 "cells": [
  {
   "cell_type": "code",
   "execution_count": 27,
   "metadata": {},
   "outputs": [],
   "source": [
    "import json\n",
    "import os\n",
    "import networkx as nx\n",
    "import geopandas as gpd\n",
    "from shapely.geometry import LineString"
   ]
  },
  {
   "cell_type": "code",
   "execution_count": 2,
   "metadata": {},
   "outputs": [],
   "source": [
    "# caricamento file di linee e punti\n",
    "with open(os.path.join('tmp','graph_network.geojson')) as f:\n",
    "    grafo_data = json.load(f)\n",
    "\n",
    "with open(os.path.join('tmp','graph_nodes.geojson')) as f:\n",
    "    punti_data = json.load(f)"
   ]
  },
  {
   "cell_type": "code",
   "execution_count": 3,
   "metadata": {},
   "outputs": [],
   "source": [
    "linee_connessione = []\n",
    "\n",
    "# Estrai le linee di connessione\n",
    "for feature in grafo_data['features']:\n",
    "    geometry = feature['geometry']\n",
    "    coordinates = geometry['coordinates']\n",
    "    linee_connessione.append(coordinates)"
   ]
  },
  {
   "cell_type": "code",
   "execution_count": 11,
   "metadata": {},
   "outputs": [],
   "source": [
    "# Crea un nuovo grafo\n",
    "grafo = nx.Graph()\n",
    "\n",
    "# Aggiungi le linee di connessione come archi nel grafo\n",
    "for linea_connessione in linee_connessione:\n",
    "    punto_a = tuple(linea_connessione[0])\n",
    "    punto_b = tuple(linea_connessione[1])\n",
    "    grafo.add_edge(punto_a, punto_b)"
   ]
  },
  {
   "cell_type": "code",
   "execution_count": 99,
   "metadata": {},
   "outputs": [
    {
     "name": "stdout",
     "output_type": "stream",
     "text": [
      "(1047128.608926032, 5042617.065792236)\n",
      "(1066057.220122893, 5028279.2324866485)\n"
     ]
    }
   ],
   "source": [
    "punto_partenza = None\n",
    "punto_arrivo = None\n",
    "\n",
    "for feature in punti_data['features']:\n",
    "    properties = feature['properties']\n",
    "    \n",
    "    if properties['FARM_CODE'] == 'F03': \n",
    "        print(tuple(feature['geometry']['coordinates']))\n",
    "        punto_partenza = tuple(feature['geometry']['coordinates'])\n",
    "    elif properties['FARM_CODE'] == 'F14': \n",
    "        print(tuple(feature['geometry']['coordinates']))\n",
    "        punto_arrivo = tuple(feature['geometry']['coordinates'])\n",
    "        \n",
    "# Verifica se i punti di partenza e di arrivo sono stati trovati\n",
    "if punto_partenza is None or punto_arrivo is None:\n",
    "    print(\"Punto di partenza o punto di arrivo non trovati.\")\n"
   ]
  },
  {
   "cell_type": "code",
   "execution_count": 100,
   "metadata": {},
   "outputs": [
    {
     "data": {
      "text/plain": [
       "[(1047128.608926032, 5042617.065792236),\n",
       " (1043466.9210496588, 5040343.504269967),\n",
       " (1061008.5513613047, 5036892.4520490775),\n",
       " (1062277.6739161336, 5033152.581058687),\n",
       " (1066057.220122893, 5028279.2324866485)]"
      ]
     },
     "execution_count": 100,
     "metadata": {},
     "output_type": "execute_result"
    }
   ],
   "source": [
    "# Calcola il percorso più breve utilizzando l'algoritmo di Dijkstra senza pesi sugli archi\n",
    "percorso = nx.dijkstra_path(grafo, punto_partenza, punto_arrivo)\n",
    "percorso"
   ]
  },
  {
   "cell_type": "code",
   "execution_count": 101,
   "metadata": {},
   "outputs": [],
   "source": [
    "linea = LineString(percorso)\n",
    "gdf = gpd.GeoDataFrame(geometry=[linea])\n",
    "\n",
    "crs = 'EPSG:3857'  # Sostituisci con il CRS desiderato\n",
    "gdf = gdf.set_crs(crs)\n"
   ]
  },
  {
   "cell_type": "code",
   "execution_count": 102,
   "metadata": {},
   "outputs": [],
   "source": [
    "gdf.to_file(os.path.join('tmp','shortest.geojson'), driver='GeoJSON')"
   ]
  }
 ],
 "metadata": {
  "kernelspec": {
   "display_name": "seaway",
   "language": "python",
   "name": "python3"
  },
  "language_info": {
   "codemirror_mode": {
    "name": "ipython",
    "version": 3
   },
   "file_extension": ".py",
   "mimetype": "text/x-python",
   "name": "python",
   "nbconvert_exporter": "python",
   "pygments_lexer": "ipython3",
   "version": "3.10.9"
  },
  "orig_nbformat": 4
 },
 "nbformat": 4,
 "nbformat_minor": 2
}
